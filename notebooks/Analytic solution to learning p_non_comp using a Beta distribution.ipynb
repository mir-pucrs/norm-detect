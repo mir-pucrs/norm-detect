{
 "metadata": {
  "name": ""
 },
 "nbformat": 3,
 "nbformat_minor": 0,
 "worksheets": [
  {
   "cells": [
    {
     "cell_type": "code",
     "collapsed": false,
     "input": [
      "from random import random\n",
      "import numpy as np\n",
      "\n",
      "unobserved_p_non_comp = 0.3\n",
      "p_act_obs=1.0\n",
      "p_sanc=0.6\n",
      "p_pun=0.2\n",
      "\n",
      "data_len = 10000\n",
      "\n",
      "def gen_data(num_data_points, p_non_comp, p_act_obs, p_sanc, p_pun):\n",
      "  data = []\n",
      "  for i in range(num_data_points):\n",
      "    if random() < p_non_comp:\n",
      "      if random() < p_act_obs * p_sanc:\n",
      "        data += [1]\n",
      "      else:\n",
      "        data += [0]\n",
      "    else:\n",
      "      if random() < p_act_obs * p_pun:\n",
      "        data += [1]\n",
      "      else:\n",
      "        data += [0]\n",
      "  return np.array(data)\n",
      "    \n",
      "data = gen_data(data_len, unobserved_p_non_comp, p_act_obs, p_sanc, p_pun)\n",
      "\n",
      "p_non_comp = 0.5\n",
      "# Prior for p_signal: p_non_comp*Ber(p_obs*p_sanc) + (1-p_non_comp)*Ber(p_obs*p_pun)\n",
      "\n",
      "\n",
      "Prior distribution for mixture component1 is Beta(a,b)\n",
      "\n",
      "for signal_val in data:\n",
      "   if signal_val:\n",
      "      a += 1\n",
      "   else:\n",
      "      b += 1\n",
      "\n",
      "# Calculate MAP estimate of p_signal as the mode of the posterior Beta distribution\n",
      "p_viol_MAP = (a-1)/(a+b-2)\n",
      "\n",
      "numerator1 = prior_mixing_weight1*p(Data|k=1)\n",
      "\n",
      "# Calculate p_non_comp\n",
      "p_non_comp = (p_viol_MAP - p_act_obs*p_pun) / (p_act_obs*(p_sanc - p_pun))\n",
      "\n",
      "print 'Estimated p_non_comp is {}'.format(p_non_comp)\n",
      "\n"
     ],
     "language": "python",
     "metadata": {},
     "outputs": [
      {
       "output_type": "stream",
       "stream": "stdout",
       "text": [
        "Estimated p_non_comp is 0.70199519952\n"
       ]
      }
     ],
     "prompt_number": 3
    },
    {
     "cell_type": "code",
     "collapsed": false,
     "input": [
      "\n"
     ],
     "language": "python",
     "metadata": {},
     "outputs": [
      {
       "output_type": "stream",
       "stream": "stdout",
       "text": [
        "Estimated p_non_comp is 0.278702870287\n"
       ]
      }
     ],
     "prompt_number": 1
    }
   ],
   "metadata": {}
  }
 ]
}