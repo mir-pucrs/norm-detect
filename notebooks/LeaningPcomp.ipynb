{
 "metadata": {
  "name": ""
 },
 "nbformat": 3,
 "nbformat_minor": 0,
 "worksheets": [
  {
   "cells": [
    {
     "cell_type": "code",
     "collapsed": false,
     "input": [
      "import numpy as np\n",
      "import pymc3 as pm\n",
      "np.random.seed(20160724)"
     ],
     "language": "python",
     "metadata": {},
     "outputs": [],
     "prompt_number": 1
    },
    {
     "cell_type": "code",
     "collapsed": false,
     "input": [
      "data_len = 1000\n",
      "num_agents = 2\n",
      "\n",
      "# ID of observed agent (a zero-based index)\n",
      "# The first half of the observations are for agent 0; the rest are for agent 1\n",
      "observed_agent_data = [0]*(data_len/2) + [1]*(data_len - data_len/2)\n",
      "\n",
      "# Observed p_viol_opt values\n",
      "p_viol_opt_data = [0.75]*data_len # All the same for now\n",
      "\n",
      "# Observed signals\n",
      "# Half zeros and half ones\n",
      "signal_data = [0]*(data_len/2) + [1]*(data_len - data_len/2)\n",
      "\n",
      "dt_float64 = np.dtype(np.float64)\n",
      "    \n",
      "model = pm.Model()\n",
      "with model:\n",
      "    p_act_obs = pm.ConstantDist('p_act_obs', 0.5, dtype=dt_float64)\n",
      "    p_sanc = pm.ConstantDist('p_sanc', 0.25, dtype=dt_float64)\n",
      "    p_pun = pm.ConstantDist('p_pun', 0.1, dtype=dt_float64)\n",
      "    p_sig_obs = pm.ConstantDist('p_sig_obs', 0.5, dtype=dt_float64)\n",
      "    observed_agent = pm.Bernoulli('observed_agent', 0.5, observed=observed_agent_data)\n",
      "    p_viol_opt = pm.Uniform('p_viol_opt', 0, 1, dtype=dt_float64, observed=p_viol_opt_data)\n",
      "    p_comp = pm.Beta('p_comp', 0.5, 0.5, shape=num_agents)\n",
      "    sanc_weight = p_viol_opt*(1-p_comp[observed_agent])\n",
      "    signal = pm.Bernoulli('signal',\n",
      "                          sanc_weight * p_act_obs*p_sanc*p_sig_obs\n",
      "                            + (1-sanc_weight) * p_act_obs*p_pun*p_sig_obs,\n",
      "                          observed = signal_data)"
     ],
     "language": "python",
     "metadata": {},
     "outputs": [
      {
       "output_type": "stream",
       "stream": "stdout",
       "text": [
        "Applied logodds-transform to p_comp and added transformed p_comp_logodds_ to model.\n"
       ]
      }
     ],
     "prompt_number": 2
    },
    {
     "cell_type": "code",
     "collapsed": false,
     "input": [
      "map_estimate = pm.find_MAP(model=model, vars=[p_comp])\n",
      "print(map_estimate)"
     ],
     "language": "python",
     "metadata": {},
     "outputs": [
      {
       "output_type": "stream",
       "stream": "stdout",
       "text": [
        "{'p_sanc': array(0.25), 'p_comp_logodds_': array([ 3.36413805, -6.27276636]), 'p_act_obs': array(0.5), 'p_sig_obs': array(0.5), 'p_pun': array(0.1)}\n"
       ]
      }
     ],
     "prompt_number": 3
    },
    {
     "cell_type": "code",
     "collapsed": false,
     "input": [
      "advi_fit = pm.variational.advi(model=model, vars=[p_comp], n=100000)\n",
      "print advi_fit"
     ],
     "language": "python",
     "metadata": {},
     "outputs": [
      {
       "output_type": "stream",
       "stream": "stdout",
       "text": [
        "Iteration 0 [0%]: ELBO = -2404.44\n",
        "Iteration 10000 [10%]: Average ELBO = -2247.41"
       ]
      },
      {
       "output_type": "stream",
       "stream": "stdout",
       "text": [
        "\n",
        "Iteration 20000 [20%]: Average ELBO = -2183.12"
       ]
      },
      {
       "output_type": "stream",
       "stream": "stdout",
       "text": [
        "\n",
        "Iteration 30000 [30%]: Average ELBO = -2179.13"
       ]
      },
      {
       "output_type": "stream",
       "stream": "stdout",
       "text": [
        "\n",
        "Iteration 40000 [40%]: Average ELBO = -2179.11"
       ]
      },
      {
       "output_type": "stream",
       "stream": "stdout",
       "text": [
        "\n",
        "Iteration 50000 [50%]: Average ELBO = -2179.11"
       ]
      },
      {
       "output_type": "stream",
       "stream": "stdout",
       "text": [
        "\n",
        "Iteration 60000 [60%]: Average ELBO = -2179.08"
       ]
      },
      {
       "output_type": "stream",
       "stream": "stdout",
       "text": [
        "\n",
        "Iteration 70000 [70%]: Average ELBO = -2179.2"
       ]
      },
      {
       "output_type": "stream",
       "stream": "stdout",
       "text": [
        "\n",
        "Iteration 80000 [80%]: Average ELBO = -2179.2"
       ]
      },
      {
       "output_type": "stream",
       "stream": "stdout",
       "text": [
        "\n",
        "Iteration 90000 [90%]: Average ELBO = -2179.2"
       ]
      },
      {
       "output_type": "stream",
       "stream": "stdout",
       "text": [
        "\n",
        "Finished [100%]: Average ELBO = -2179.19"
       ]
      },
      {
       "output_type": "stream",
       "stream": "stdout",
       "text": [
        "\n",
        "ADVIFit(means={'p_sanc': array(0.25), 'p_comp_logodds_': array([ 4.33359511, -7.35987436]), 'p_act_obs': array(0.5), 'p_sig_obs': array(0.5), 'p_pun': array(0.1)}, stds={'p_sanc': 1.2840254166877414, 'p_comp_logodds_': array([ 2.01709441,  1.97039519]), 'p_act_obs': 1.6487212707001282, 'p_sig_obs': 1.6487212707001282, 'p_pun': 1.1051709180756477}, elbo_vals=array([-2404.43633675, -2264.09772541, -2355.70036404, ..., -2182.36002783,\n",
        "       -2181.89403301, -2177.62498121]))\n"
       ]
      }
     ],
     "prompt_number": 4
    },
    {
     "cell_type": "code",
     "collapsed": false,
     "input": [
      "from scipy.special import expit\n",
      "map_estimate_pcomp = expit(map_estimate['p_comp_logodds_'])\n",
      "print 'MAP estimate of p_comp: ' + str(map_estimate_pcomp)\n",
      "advi_pcomp_mean = expit(advi_fit.means['p_comp_logodds_'])\n",
      "print 'Mean of ADVI estimated distribution for p_comp: ' + str(advi_pcomp_mean)"
     ],
     "language": "python",
     "metadata": {},
     "outputs": [
      {
       "output_type": "stream",
       "stream": "stdout",
       "text": [
        "MAP estimate of p_comp: [ 0.96656477  0.00188345]\n",
        "Mean of ADVI estimated distribution for p_comp: [  9.87049619e-01   6.35873806e-04]\n"
       ]
      }
     ],
     "prompt_number": 5
    },
    {
     "cell_type": "code",
     "collapsed": false,
     "input": [
      "with model:\n",
      "  trace = pm.variational.sample_vp(advi_fit, draws=1000, hide_transformed=False)\n",
      "print 'First 10 elements of the trace: ' + str(trace[:10]['p_comp'])"
     ],
     "language": "python",
     "metadata": {},
     "outputs": [
      {
       "output_type": "stream",
       "stream": "stdout",
       "text": [
        "First 10 elements of the trace: [[  9.89336132e-01   9.38068932e-05]\n",
        " [  4.44422603e-01   3.14204321e-04]\n",
        " [  7.58046704e-01   8.04823355e-05]\n",
        " [  7.93728939e-01   1.06640572e-03]\n",
        " [  9.81529136e-01   6.12901139e-04]\n",
        " [  9.70846109e-01   1.25015917e-04]\n",
        " [  7.42833925e-01   1.94913259e-03]\n",
        " [  9.92432418e-01   1.83106099e-03]\n",
        " [  7.57738510e-01   9.60806288e-05]\n",
        " [  9.98239945e-01   7.20063858e-03]]\n"
       ]
      }
     ],
     "prompt_number": 6
    },
    {
     "cell_type": "raw",
     "metadata": {},
     "source": [
      "Now we plot the ADVI derived distribution of each agent's p_comp (different colours are used for the agents)"
     ]
    },
    {
     "cell_type": "code",
     "collapsed": false,
     "input": [
      "%matplotlib inline\n",
      "pm.traceplot(trace, varnames=['p_comp'])"
     ],
     "language": "python",
     "metadata": {},
     "outputs": [
      {
       "metadata": {},
       "output_type": "pyout",
       "prompt_number": 7,
       "text": [
        "array([[<matplotlib.axes.AxesSubplot object at 0x7f801c044790>,\n",
        "        <matplotlib.axes.AxesSubplot object at 0x7f801d96c990>]], dtype=object)"
       ]
      },
      {
       "metadata": {},
       "output_type": "display_data",
       "png": "[encoded data removed]",
       "text": [
        "<matplotlib.figure.Figure at 0x7f801c04ecd0>"
       ]
      }
     ],
     "prompt_number": 7
    },
    {
     "cell_type": "code",
     "collapsed": false,
     "input": [],
     "language": "python",
     "metadata": {},
     "outputs": [],
     "prompt_number": 7
    }
   ],
   "metadata": {}
  }
 ]
}