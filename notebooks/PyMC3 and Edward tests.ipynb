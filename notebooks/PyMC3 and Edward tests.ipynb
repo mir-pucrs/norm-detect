{
 "metadata": {
  "name": ""
 },
 "nbformat": 3,
 "nbformat_minor": 0,
 "worksheets": [
  {
   "cells": [
    {
     "cell_type": "code",
     "collapsed": false,
     "input": [
      "%clear\n",
      "%matplotlib inline\n",
      "import numpy as np\n",
      "import pymc3 as pm\n",
      "import theano\n",
      "import theano.tensor as tt\n",
      "from math import sqrt\n",
      "import edward as ed\n",
      "from edward.models import PyMC3Model, Variational, Beta\n",
      "from scipy.special import expit\n",
      "#np.random.seed(0)"
     ],
     "language": "python",
     "metadata": {},
     "outputs": [
      {
       "output_type": "stream",
       "stream": "stdout",
       "text": [
        "\u001b[H\u001b[2J"
       ]
      }
     ],
     "prompt_number": 14
    },
    {
     "cell_type": "code",
     "collapsed": false,
     "input": [
      "def replacement_finalize(self):\n",
      "        \"\"\"Function to call after convergence.\n",
      "        Any class based on ``VariationalInference`` **may**\n",
      "        overwrite this method.\n",
      "        \"\"\"\n",
      "        def val(x):\n",
      "            return x\n",
      "        \n",
      "        beta_var = self.variational.layers[0]\n",
      "        print \"Final alphas: %s\" % beta_var.alpha.eval()\n",
      "        print \"Final betas: %s\" % beta_var.beta.eval()\n",
      "        # Ask threads to stop.\n",
      "        self.coord.request_stop()\n",
      "        self.coord.join(self.threads)\n",
      "        \n",
      "ed.MFVI.finalize = replacement_finalize"
     ],
     "language": "python",
     "metadata": {},
     "outputs": [],
     "prompt_number": 23
    },
    {
     "cell_type": "code",
     "collapsed": false,
     "input": [
      "import tensorflow as tf\n",
      "from edward.stats import beta\n",
      "def replacement_Beta_sample(self, n=1):\n",
      "        def np_sample(a, b):\n",
      "            #print \"Calling np_sample with a,b=(%s,%s)\" % (a,b)\n",
      "            # get ``n`` from lexical scoping\n",
      "            result = beta.rvs(a, b, size=n)\n",
      "            def fix(x):\n",
      "                if x < 0.001:\n",
      "                    return 0.001\n",
      "                elif x > 0.999:\n",
      "                    return 0.999\n",
      "                else:\n",
      "                    return x\n",
      "            new_result = np.array([map(fix, pair) for pair in result ])\n",
      "            #print \"Result: %s\" % result\n",
      "            #print \"New result: %s\" % new_result\n",
      "            \n",
      "            return new_result.astype(np.float32)\n",
      "        \n",
      "        x = tf.py_func(np_sample, [self.alpha, self.beta], [tf.float32])[0]\n",
      "        x.set_shape((n, ) + self.shape) # set shape from unknown shape\n",
      "        return x\n",
      "Beta.sample = replacement_Beta_sample"
     ],
     "language": "python",
     "metadata": {},
     "outputs": [],
     "prompt_number": 57
    },
    {
     "cell_type": "code",
     "collapsed": false,
     "input": [
      "# Model to generate data for a single agent\n",
      "\n",
      "from scipy.optimize import fmin_powell\n",
      "\n",
      "num_agents = 1\n",
      "num_norms = 4\n",
      "\n",
      "# Probability of norms being true\n",
      "p_norm_data = np.array([1.0/num_norms]*num_norms)\n",
      "\n",
      "# Observed p_viol_opt values\n",
      "#p_viol_opt_data = np.array([0.0] + [0.25]*(num_norms-1))\n",
      "\n",
      "print \"WARNING: Setting p_viol_opt_data to a sequence of 1s\"\n",
      "p_viol_opt_data = [1.0]*num_norms\n",
      "\n",
      "p_viol_opt_avg = p_norm_data.dot(p_viol_opt_data)\n",
      "\n",
      "p_act_obs = 0.8\n",
      "p_sanc = 0.3\n",
      "p_pun = 0.1\n",
      "p_sig_obs = 0.8\n",
      "p_non_comp = 0.7\n",
      "sanc_weight = p_viol_opt_avg*p_non_comp\n",
      "\n",
      "with pm.Model() as pm_model:\n",
      "    p_norms = pm.constant(p_norm_data)\n",
      "    p_viol_opt = pm.constant(p_viol_opt_data)\n",
      "    p_viol_opt_avg = pm.dot(p_norms, p_viol_opt)\n",
      "    signal = pm.Bernoulli('signal',\n",
      "                          sanc_weight * p_act_obs*p_sanc*p_sig_obs\n",
      "                            + (1-sanc_weight) * p_act_obs*p_pun*p_sig_obs)\n",
      "    \n",
      "with pm_model:\n",
      "\n",
      "    # obtain starting values via MAP\n",
      "    start = pm.find_MAP(fmin=fmin_powell)\n",
      "\n",
      "    # draw 2000 posterior samples\n",
      "    trace = pm.sample(2000, start=start)\n",
      "\n",
      "generated_signal_data = trace[-1000:]['signal']\n",
      "\n",
      "tp = pm.traceplot(trace)\n"
     ],
     "language": "python",
     "metadata": {},
     "outputs": [
      {
       "output_type": "stream",
       "stream": "stdout",
       "text": [
        "Assigned BinaryGibbsMetropolis to signal\n",
        "\r"
       ]
      },
      {
       "output_type": "stream",
       "stream": "stdout",
       "text": [
        " [-----------------100%-----------------] 2000 of 2000 complete in 0.2 sec"
       ]
      },
      {
       "metadata": {},
       "output_type": "display_data",
       "png": "[encoded data removed]",
       "text": [
        "<matplotlib.figure.Figure at 0x7f1800988850>"
       ]
      }
     ],
     "prompt_number": 15
    },
    {
     "cell_type": "code",
     "collapsed": false,
     "input": [
      "# Model using Beta prior and p_viol_opt=1\n",
      "\n",
      "data_len = len(generated_signal_data)\n",
      "print \"data_len: %d\" % data_len\n",
      "num_agents = 1\n",
      "num_norms = 4\n",
      "\n",
      "# Probability of norms being true\n",
      "p_norm_data = np.array([1.0/num_norms]*num_norms)\n",
      "\n",
      "# Observed p_viol_opt values\n",
      "p_viol_opt_data = np.array([0.0] + [0.25]*(num_norms-1))\n",
      "\n",
      "p_viol_opt_avg = p_norm_data.dot(p_viol_opt_data)\n",
      "print \"p_viol_opt_avg: %f\" % p_viol_opt_avg\n",
      "\n",
      "p_act_obs = 0.8\n",
      "p_sanc = 0.3\n",
      "p_pun = 0.1\n",
      "\n",
      "# ID of observed agent (a zero-based index)\n",
      "# Probability of norms being true\n",
      "p_norm_data = np.array([1.0/num_norms]*num_norms)\n",
      "\n",
      "# Observed signals\n",
      "signal_data = generated_signal_data\n",
      "\n",
      "num_positives = np.count_nonzero(signal_data)\n",
      "num_negatives = len(signal_data) - num_positives\n",
      "\n",
      "alpha = 0.5 + num_positives\n",
      "beta = 0.5 + num_negatives\n",
      "\n",
      "print \"alpha, beta = %f, %f\" % (alpha, beta)\n",
      "\n",
      "mode = (alpha - 1)/(alpha + beta -2) \n",
      "\n",
      "print \"Beta distribution mode = %f\" % mode\n",
      "\n",
      "# MAP for theta = mode, where theta = p_non_comp * (p_act_obs*p_sanc) + (1-p_non_comp) * (p_act_obs*p_pun)\n",
      "\n",
      "# mode = pnc * a + (1-pnc) * b\n",
      "#      = pnc*a + b - pnc*b\n",
      "#      = pnc*(a-b) + b\n",
      "# pnc = (mode-b)/(a-b)\n",
      "\n",
      "p_non_comp = (mode - p_act_obs*p_pun) / (p_act_obs*(p_sanc - p_pun))\n",
      "\n",
      "print \"p_non_comp estimate = %f\" % p_non_comp\n",
      "\n",
      "# Result for actual p_non_comp = 0.3 and p_viol_opt = 1 is 0.332864\n",
      "# Result for actual p_non_comp = 0.7 and p_viol_opt = 1 is 0.747341"
     ],
     "language": "python",
     "metadata": {},
     "outputs": [
      {
       "output_type": "stream",
       "stream": "stdout",
       "text": [
        "data_len: 1000\n",
        "p_viol_opt_avg: 0.187500\n",
        "alpha, beta = 160.500000, 840.500000\n",
        "Beta distribution mode = 0.159660\n",
        "p_non_comp estimate = 0.747341\n"
       ]
      }
     ],
     "prompt_number": 16
    },
    {
     "cell_type": "code",
     "collapsed": false,
     "input": [
      "# Model for use with PyMC3 to empirically determine shape of posterior for p_non_comp, given a Uniform prior\n",
      "#import time\n",
      "\n",
      "data_len = len(generated_signal_data)\n",
      "print \"data_len: %d\" % data_len\n",
      "num_agents = 1\n",
      "num_norms = 4\n",
      "\n",
      "# Probability of norms being true\n",
      "p_norm_data = np.array([1.0/num_norms]*num_norms)\n",
      "\n",
      "# Observed p_viol_opt values\n",
      "p_viol_opt_data = np.array([0.0] + [0.25]*(num_norms-1))\n",
      "\n",
      "p_viol_opt_avg = p_norm_data.dot(p_viol_opt_data)\n",
      "print \"p_viol_opt_avg: %f\" % p_viol_opt_avg\n",
      "\n",
      "p_act_obs = 0.8\n",
      "p_sanc = 0.3\n",
      "p_pun = 0.1\n",
      "p_sig_obs = 0.8\n",
      "\n",
      "# ID of observed agent (a zero-based index)\n",
      "# Probability of norms being true\n",
      "p_norm_data = np.array([1.0/num_norms]*num_norms)\n",
      "\n",
      "# Observed signals\n",
      "signal_data = generated_signal_data\n",
      "\n",
      "# From http://stackoverflow.com/questions/312443/how-do-you-split-a-list-into-evenly-sized-chunks-in-python\n",
      "def chunks(l, n):\n",
      "    \"\"\"Yield successive n-sized chunks from l.\"\"\"\n",
      "    for i in range(0, len(l), n):\n",
      "        yield l[i:i + n]\n",
      "\n",
      "mus = []\n",
      "sds = []\n",
      "mu = None\n",
      "sd = None\n",
      "\n",
      "for iter_num,chunk in enumerate(chunks(generated_signal_data, 10)):\n",
      "  print \"Chunk: %s\" % chunk\n",
      "  with pm.Model() as pm_model:\n",
      "    if iter_num == 0:\n",
      "      #print \"Uniform prior on [0,1]\"\n",
      "      #p_non_comp = pm.Uniform('p_non_comp', 0, 1, shape=num_agents)\n",
      "      p_non_comp = pm.Beta('p_non_comp', 0.5, 0.5, shape=num_agents)\n",
      "    else:\n",
      "      #lower = max(0, mu-sd)\n",
      "      #upper = min(1, mu+sd)\n",
      "      #print \"Uniform prior on [%f,%f]\" % (lower,upper)\n",
      "      #p_non_comp = pm.Uniform('p_non_comp', lower, upper, shape=num_agents)\n",
      "      #print \"Bounded Normal prior with (mu,sd) = (%f,%f)\" % (mu, sd)\n",
      "      #BoundedNormal = pm.Bound(pm.Normal, lower=0, upper=1)\n",
      "      #p_non_comp = BoundedNormal('p_non_comp', mu=mu, sd=sd, shape=num_agents)\n",
      "      p_non_comp = pm.Beta('p_non_comp', mu=mu, sd=sd, shape=num_agents)\n",
      "      \n",
      "    sanc_weight = p_viol_opt_avg*p_non_comp    \n",
      "    signal = pm.Bernoulli('signal',\n",
      "                          sanc_weight * p_act_obs*p_sanc*p_sig_obs\n",
      "                            + (1-sanc_weight) * p_act_obs*p_pun*p_sig_obs,\n",
      "                          observed=chunk)\n",
      "\n",
      "  with pm_model:\n",
      "    #map_estimate = pm.find_MAP()\n",
      "    #print \"MAP estimate of p_non_comp: %s\" % expit(map_estimate['p_non_comp_interval_'])\n",
      "\n",
      "    # draw 2000 posterior samples\n",
      "    #trace = pm.sample(2000, start=map_estimate)\n",
      "    #pm.traceplot(trace[-1000:])\n",
      "    #pm.summary(trace[-1000:])\n",
      "    \n",
      "    advi_fit = pm.variational.advi(model=pm_model, vars=[p_non_comp], n=100000, verbose=0)\n",
      "    #mu = expit(advi_fit.means['p_non_comp_interval_'])[0]\n",
      "    #sd = expit(advi_fit.stds['p_non_comp_interval_'])[0]\n",
      "    mu = expit(advi_fit.means['p_non_comp_logodds_'])[0]\n",
      "    sd = expit(advi_fit.stds['p_non_comp_logodds_'])[0]\n",
      "    print '%d: p_non_comp mean, sd: %s, %s' % (iter_num, mu, sd)\n",
      "    mus += [mu]\n",
      "    sds += [sd]\n",
      "\n",
      "print mus"
     ],
     "language": "python",
     "metadata": {},
     "outputs": [
      {
       "ename": "NameError",
       "evalue": "name 'generated_signal_data' is not defined",
       "output_type": "pyerr",
       "traceback": [
        "\u001b[0;31m---------------------------------------------------------------------------\u001b[0m\n\u001b[0;31mNameError\u001b[0m                                 Traceback (most recent call last)",
        "\u001b[0;32m<ipython-input-58-3536d54fe1fa>\u001b[0m in \u001b[0;36m<module>\u001b[0;34m()\u001b[0m\n\u001b[1;32m      2\u001b[0m \u001b[0;31m#import time\u001b[0m\u001b[0;34m\u001b[0m\u001b[0;34m\u001b[0m\u001b[0m\n\u001b[1;32m      3\u001b[0m \u001b[0;34m\u001b[0m\u001b[0m\n\u001b[0;32m----> 4\u001b[0;31m \u001b[0mdata_len\u001b[0m \u001b[0;34m=\u001b[0m \u001b[0mlen\u001b[0m\u001b[0;34m(\u001b[0m\u001b[0mgenerated_signal_data\u001b[0m\u001b[0;34m)\u001b[0m\u001b[0;34m\u001b[0m\u001b[0m\n\u001b[0m\u001b[1;32m      5\u001b[0m \u001b[0;32mprint\u001b[0m \u001b[0;34m\"data_len: %d\"\u001b[0m \u001b[0;34m%\u001b[0m \u001b[0mdata_len\u001b[0m\u001b[0;34m\u001b[0m\u001b[0m\n\u001b[1;32m      6\u001b[0m \u001b[0mnum_agents\u001b[0m \u001b[0;34m=\u001b[0m \u001b[0;36m1\u001b[0m\u001b[0;34m\u001b[0m\u001b[0m\n",
        "\u001b[0;31mNameError\u001b[0m: name 'generated_signal_data' is not defined"
       ]
      }
     ],
     "prompt_number": 58
    },
    {
     "cell_type": "code",
     "collapsed": false,
     "input": [
      "# Test of Edward\n",
      "\n",
      "data_len = len(generated_signal_data)\n",
      "num_agents = 1\n",
      "num_norms = 4\n",
      "\n",
      "# Probability of norms being true\n",
      "p_norm_data = np.array([1.0/num_norms]*num_norms)\n",
      "\n",
      "# Observed p_viol_opt values\n",
      "p_viol_opt_data = np.array([0.0] + [0.25]*(num_norms-1))\n",
      "\n",
      "p_viol_opt_avg = p_norm_data.dot(p_viol_opt_data)\n",
      "\n",
      "p_act_obs = 0.8\n",
      "p_sanc = 0.3\n",
      "p_pun = 0.1\n",
      "p_sig_obs = 0.8\n",
      "\n",
      "# ID of observed agent (a zero-based index)\n",
      "observed_agent_data = theano.shared(np.zeros(1))\n",
      "# This seems to fix an optimization error when num_agents is 1:\n",
      "#if data_len==1:\n",
      "#  observed_agent_data = observed_agent_data[0]\n",
      "\n",
      "# Observed signals\n",
      "signal_data = theano.shared(np.zeros(1))\n",
      "\n",
      "dt_float64 = np.dtype(np.float64)\n",
      "\n",
      "with pm.Model() as pm_model:\n",
      "    p_non_comp = pm.Beta('p_non_comp', 0.5, 0.5, shape=num_agents, transform=None) # Is transform = None actually needed with Edward?\n",
      "    #observed_agent = pm.Categorical('observed_agent', np.array([1.0/num_agents]*num_agents), observed=observed_agent_data)\n",
      "    #sanc_weight = p_viol_opt_avg*p_non_comp[observed_agent]\n",
      "    sanc_weight = p_viol_opt_avg*p_non_comp    \n",
      "    signal = pm.Bernoulli('signal',\n",
      "                          sanc_weight * p_act_obs*p_sanc*p_sig_obs\n",
      "                            + (1-sanc_weight) * p_act_obs*p_pun*p_sig_obs,\n",
      "                          observed=signal_data)\n",
      "\n",
      "#data = {observed_agent_data: np.array([0]*data_len),\n",
      "#        signal_data: np.array([1]*data_len) }\n",
      "\n",
      "#random_data_low_prob = np.random.choice([0,1], size=(data_len/2,), p=[0.75,0.25])\n",
      "#random_data_high_prob = np.random.choice([0,1], size=(data_len - data_len/2,), p=[0.25,0.75])\n",
      "data = { #observed_agent_data: np.array([0]*(data_len)),\n",
      "        signal_data: generated_signal_data }\n",
      "#data = {observed_agent_data: np.array([0]*(data_len/2) + [1]*(data_len - data_len/2)),\n",
      "#        signal_data: np.hstack((random_data_low_prob, random_data_high_prob))}\n",
      " \n",
      "ed.set_seed(78)\n",
      "ed_model = PyMC3Model(pm_model)\n",
      "\n",
      "print pm.blocking.ArrayOrdering(pm.theanof.inputvars(pm_model.cont_vars)).vmap\n",
      "\n",
      "#variational = Variational()\n",
      "#variational.add(Beta(num_agents))\n",
      "\n",
      "import tensorflow as tf\n",
      "params = tf.sigmoid(tf.Variable(tf.random_normal([1])))\n",
      "inference = ed.MAP(ed_model, data, params=params)\n",
      "inference.run(n_iter=1000)\n",
      "#print \"Beta dist. params = (%f,%f)\" % (beta_var.alpha, beta_var.beta)"
     ],
     "language": "python",
     "metadata": {},
     "outputs": []
    },
    {
     "cell_type": "code",
     "collapsed": false,
     "input": [
      "map_estimate = pm.find_MAP(model=pm_model, vars=[p_non_comp])\n",
      "print(map_estimate)"
     ],
     "language": "python",
     "metadata": {},
     "outputs": [
      {
       "output_type": "stream",
       "stream": "stdout",
       "text": [
        "{'p_non_comp': array([ 0.5,  0.5])}\n"
       ]
      }
     ],
     "prompt_number": 47
    },
    {
     "cell_type": "code",
     "collapsed": false,
     "input": [
      "advi_fit = pm.variational.advi(model=pm_model, vars=[p_non_comp], n=30000)\n",
      "print advi_fit"
     ],
     "language": "python",
     "metadata": {},
     "outputs": [
      {
       "output_type": "stream",
       "stream": "stdout",
       "text": [
        "Iteration 0 [0%]: ELBO = -inf\n",
        "Iteration 3000 [10%]: Average ELBO = -inf"
       ]
      },
      {
       "output_type": "stream",
       "stream": "stdout",
       "text": [
        "\n",
        "Iteration 6000 [20%]: Average ELBO = -inf"
       ]
      },
      {
       "output_type": "stream",
       "stream": "stdout",
       "text": [
        "\n",
        "Iteration 9000 [30%]: Average ELBO = -inf"
       ]
      },
      {
       "output_type": "stream",
       "stream": "stdout",
       "text": [
        "\n",
        "Iteration 12000 [40%]: Average ELBO = -inf"
       ]
      },
      {
       "output_type": "stream",
       "stream": "stdout",
       "text": [
        "\n",
        "Iteration 15000 [50%]: Average ELBO = -inf"
       ]
      },
      {
       "output_type": "stream",
       "stream": "stdout",
       "text": [
        "\n",
        "Iteration 18000 [60%]: Average ELBO = -inf"
       ]
      },
      {
       "output_type": "stream",
       "stream": "stdout",
       "text": [
        "\n",
        "Iteration 21000 [70%]: Average ELBO = -inf"
       ]
      },
      {
       "output_type": "stream",
       "stream": "stdout",
       "text": [
        "\n",
        "Iteration 24000 [80%]: Average ELBO = -inf"
       ]
      },
      {
       "output_type": "stream",
       "stream": "stdout",
       "text": [
        "\n",
        "Iteration 27000 [90%]: Average ELBO = -inf"
       ]
      },
      {
       "output_type": "stream",
       "stream": "stdout",
       "text": [
        "\n",
        "Finished [100%]: Average ELBO = -inf"
       ]
      },
      {
       "output_type": "stream",
       "stream": "stdout",
       "text": [
        "\n",
        "ADVIFit(means={'p_non_comp': array([ 8.58332048,  9.74500452])}, stds={'p_non_comp': array([ 0.90521481,  0.56176532])}, elbo_vals=array([-inf, -inf, -inf, ..., -inf, -inf, -inf]))\n"
       ]
      }
     ],
     "prompt_number": 48
    },
    {
     "cell_type": "code",
     "collapsed": false,
     "input": [
      "from scipy.special import expit\n",
      "map_estimate_p_non_comp = expit(map_estimate['p_non_comp_logodds_'])\n",
      "print 'MAP estimate of p_non_comp: ' + str(map_estimate_p_non_comp)\n",
      "advi_p_non_comp_mean = expit(advi_fit.means['p_non_comp_logodds_'])\n",
      "print 'Mean of ADVI estimated distribution for p_non_comp: ' + str(advi_p_non_comp_mean)"
     ],
     "language": "python",
     "metadata": {},
     "outputs": []
    },
    {
     "cell_type": "code",
     "collapsed": false,
     "input": [
      "with pm_model:\n",
      "  trace = pm.variational.sample_vp(advi_fit, draws=1000, hide_transformed=False)\n",
      "print 'First 10 elements of the trace: ' + str(trace[:10]['p_non_comp'])"
     ],
     "language": "python",
     "metadata": {},
     "outputs": []
    },
    {
     "cell_type": "raw",
     "metadata": {},
     "source": [
      "Now we plot the ADVI derived distribution of each agent's p_comp (different colours are used for the agents)"
     ]
    },
    {
     "cell_type": "code",
     "collapsed": false,
     "input": [
      "%matplotlib inline\n",
      "pm.traceplot(trace, varnames=['p_non_comp'])"
     ],
     "language": "python",
     "metadata": {},
     "outputs": []
    },
    {
     "cell_type": "code",
     "collapsed": false,
     "input": [
      "#!/usr/bin/env python\n",
      "\"\"\"\n",
      "A simple coin flipping example. The model is written in PyMC3.\n",
      "Inspired by Stan's toy example.\n",
      "\n",
      "Probability model\n",
      "    Prior: Beta\n",
      "    Likelihood: Bernoulli\n",
      "Variational model\n",
      "    Likelihood: Mean-field Beta\n",
      "\"\"\"\n",
      "#from __future__ import absolute_import\n",
      "#from __future__ import division\n",
      "#from __future__ import print_function\n",
      "\n",
      "import edward as ed\n",
      "import numpy as np\n",
      "import pymc3 as pm\n",
      "import theano\n",
      "\n",
      "from edward.models import PyMC3Model, Variational, Beta\n",
      "\n",
      "x_obs = theano.shared(np.zeros(1))\n",
      "with pm.Model() as pm_model:\n",
      "    beta = pm.Beta('beta', 1, 1, transform=None)\n",
      "    x = pm.Bernoulli('x', beta, observed=x_obs)\n",
      "\n",
      "ed.set_seed(42)\n",
      "model = PyMC3Model(pm_model)\n",
      "\n",
      "print pm.blocking.ArrayOrdering(pm.theanof.inputvars(pm_model.cont_vars)).vmap\n",
      "\n",
      "variational = Variational()\n",
      "variational.add(Beta())\n",
      "data = {x_obs: np.array([0, 1, 0, 0, 0, 0, 0, 0, 0, 1])}\n",
      "\n",
      "inference = ed.MFVI(model, variational, data)\n",
      "inference.run(n_iter=10000)"
     ],
     "language": "python",
     "metadata": {},
     "outputs": []
    },
    {
     "cell_type": "code",
     "collapsed": false,
     "input": [
      "# Graph posterior with Beta prior for p_non_comp and WITHOUT p_viol_opt\n",
      "\n",
      "import pymc3 as pm\n",
      "from scipy.optimize import fmin_powell\n",
      "\n",
      "num_agents = 1\n",
      "\n",
      "p_act_obs = 0.8\n",
      "p_sanc = 0.3\n",
      "p_pun = 0.05\n",
      "p_non_comp = 0.7\n",
      "\n",
      "with pm.Model() as pm_model:\n",
      "    signal = pm.Bernoulli('signal',\n",
      "                          p_non_comp * p_act_obs*p_sanc\n",
      "                            + (1-p_non_comp) * p_act_obs*p_pun)\n",
      "    # obtain starting values via MAP\n",
      "    start = pm.find_MAP(fmin=fmin_powell)\n",
      "    # draw 2000 posterior samples\n",
      "    sample = pm.sample(2000, start=start)\n",
      "\n",
      "generated_signal_data = sample[-1000:]['signal']\n",
      "\n",
      "print 'Number of zeros: {}'.format(len(data) - np.count_nonzero(generated_signal_data))\n",
      "print 'Number of ones: {}'.format(np.count_nonzero(generated_signal_data))\n",
      "\n",
      "from random import random\n",
      "import numpy as np\n",
      "data_len = 1000\n",
      "\n",
      "def gen_data(num_data_points, p_non_comp, p_act_obs, p_sanc, p_pun):\n",
      "  data = []\n",
      "  for i in range(num_data_points):\n",
      "    if random() < p_non_comp:\n",
      "      if random() < p_act_obs * p_sanc:\n",
      "        data += [1]\n",
      "      else:\n",
      "        data += [0]\n",
      "    else:\n",
      "      if random() < p_act_obs * p_pun:\n",
      "        data += [1]\n",
      "      else:\n",
      "        data += [0]\n",
      "  return np.array(data)\n",
      "    \n",
      "data = gen_data(data_len, p_non_comp, p_act_obs, p_sanc, p_pun)\n",
      "print 'Number of zeros: {}'.format(len(data) - np.count_nonzero(data))\n",
      "print 'Number of ones: {}'.format(np.count_nonzero(data))\n"
     ],
     "language": "python",
     "metadata": {},
     "outputs": [
      {
       "output_type": "stream",
       "stream": "stdout",
       "text": [
        "Assigned BinaryGibbsMetropolis to signal\n",
        "\r"
       ]
      },
      {
       "output_type": "stream",
       "stream": "stdout",
       "text": [
        " [-----------------100%-----------------] 2000 of 2000 complete in 0.2 sec"
       ]
      },
      {
       "output_type": "stream",
       "stream": "stdout",
       "text": [
        "Number of zeros: 819\n",
        "Number of ones: 181\n",
        "Number of zeros: 805\n",
        "Number of ones: 195\n"
       ]
      }
     ],
     "prompt_number": 23
    },
    {
     "cell_type": "code",
     "collapsed": false,
     "input": [
      "# Plot Beta prior\n",
      "with pm.Model() as pm_model:\n",
      "    p_non_comp = pm.Beta('p_non_comp', 1.1, 1.1) \n",
      "    # obtain starting values via MAP\n",
      "    start = pm.find_MAP(fmin=fmin_powell)\n",
      "    # draw 10000 samples\n",
      "    prior_trace = pm.sample(10000, start=start)\n",
      "    \n",
      "%matplotlib inline\n",
      "pm.traceplot(prior_trace, varnames=['p_non_comp'])"
     ],
     "language": "python",
     "metadata": {},
     "outputs": [
      {
       "output_type": "stream",
       "stream": "stdout",
       "text": [
        "Applied logodds-transform to p_non_comp and added transformed p_non_comp_logodds_ to model.\n",
        "Assigned NUTS to p_non_comp_logodds_"
       ]
      },
      {
       "output_type": "stream",
       "stream": "stdout",
       "text": [
        "\n",
        "\r"
       ]
      },
      {
       "output_type": "stream",
       "stream": "stdout",
       "text": [
        " [---------        23%                  ] 2386 of 10000 complete in 0.5 sec"
       ]
      },
      {
       "output_type": "stream",
       "stream": "stdout",
       "text": [
        "\r",
        " [-----------------49%                  ] 4937 of 10000 complete in 1.0 sec"
       ]
      },
      {
       "output_type": "stream",
       "stream": "stdout",
       "text": [
        "\r",
        " [-----------------74%--------          ] 7422 of 10000 complete in 1.5 sec"
       ]
      },
      {
       "output_type": "stream",
       "stream": "stdout",
       "text": [
        "\r",
        " [-----------------98%----------------- ] 9856 of 10000 complete in 2.0 sec"
       ]
      },
      {
       "output_type": "stream",
       "stream": "stdout",
       "text": [
        "\r",
        " [-----------------100%-----------------] 10000 of 10000 complete in 2.0 sec"
       ]
      },
      {
       "metadata": {},
       "output_type": "pyout",
       "prompt_number": 45,
       "text": [
        "array([[<matplotlib.axes._subplots.AxesSubplot object at 0x7f549c0129d0>,\n",
        "        <matplotlib.axes._subplots.AxesSubplot object at 0x7f549bf3eb10>]], dtype=object)"
       ]
      },
      {
       "metadata": {},
       "output_type": "display_data",
       "png": "[encoded data removed]",
       "text": [
        "<matplotlib.figure.Figure at 0x7f549ea01510>"
       ]
      }
     ],
     "prompt_number": 45
    },
    {
     "cell_type": "code",
     "collapsed": false,
     "input": [],
     "language": "python",
     "metadata": {},
     "outputs": []
    },
    {
     "cell_type": "code",
     "collapsed": false,
     "input": [
      "# Now infer posterior distribution for p_non_comp\n",
      "\n",
      "p_act_obs = 0.8\n",
      "p_sanc = 0.3\n",
      "p_pun = 0.1\n",
      "p_non_comp = 0.7\n",
      "\n",
      "with pm.Model() as pm_model:\n",
      "    p_non_comp = pm.Beta('p_non_comp', 1.1, 1.1)\n",
      "    theta = pm.Deterministic('theta', p_non_comp * p_act_obs*p_sanc + (1-p_non_comp) * p_act_obs*p_pun)\n",
      "    #signal = pm.Bernoulli('signal',\n",
      "    #                      theta,\n",
      "    #                      #observed=generated_signal_data[0])\n",
      "    #                      observed=data)\n",
      "    # obtain starting values via MAP\n",
      "    start = pm.find_MAP()\n",
      "    # draw 2000 posterior samples\n",
      "    posterior_trace = pm.sample(10000, start=start, trace=[p_non_comp, theta])\n",
      "    \n",
      "%matplotlib inline\n",
      "pm.traceplot(posterior_trace, varnames=['p_non_comp', 'theta'])"
     ],
     "language": "python",
     "metadata": {},
     "outputs": [
      {
       "output_type": "stream",
       "stream": "stdout",
       "text": [
        "Applied logodds-transform to p_non_comp and added transformed p_non_comp_logodds_ to model.\n",
        "Assigned NUTS to p_non_comp_logodds_"
       ]
      },
      {
       "output_type": "stream",
       "stream": "stdout",
       "text": [
        "\n",
        "\r"
       ]
      },
      {
       "output_type": "stream",
       "stream": "stdout",
       "text": [
        " [---               9%                  ] 948 of 10000 complete in 0.5 sec"
       ]
      },
      {
       "output_type": "stream",
       "stream": "stdout",
       "text": [
        "\r",
        " [-------          20%                  ] 2078 of 10000 complete in 1.0 sec"
       ]
      },
      {
       "output_type": "stream",
       "stream": "stdout",
       "text": [
        "\r",
        " [------------     32%                  ] 3224 of 10000 complete in 1.5 sec"
       ]
      },
      {
       "output_type": "stream",
       "stream": "stdout",
       "text": [
        "\r",
        " [-----------------45%                  ] 4530 of 10000 complete in 2.0 sec"
       ]
      },
      {
       "output_type": "stream",
       "stream": "stdout",
       "text": [
        "\r",
        " [-----------------56%-                 ] 5699 of 10000 complete in 2.5 sec"
       ]
      },
      {
       "output_type": "stream",
       "stream": "stdout",
       "text": [
        "\r",
        " [-----------------69%------            ] 6986 of 10000 complete in 3.0 sec"
       ]
      },
      {
       "output_type": "stream",
       "stream": "stdout",
       "text": [
        "\r",
        " [-----------------82%-----------       ] 8275 of 10000 complete in 3.5 sec"
       ]
      },
      {
       "output_type": "stream",
       "stream": "stdout",
       "text": [
        "\r",
        " [-----------------89%--------------    ] 8969 of 10000 complete in 4.0 sec"
       ]
      },
      {
       "output_type": "stream",
       "stream": "stdout",
       "text": [
        "\r",
        " [-----------------96%----------------  ] 9689 of 10000 complete in 4.5 sec"
       ]
      },
      {
       "output_type": "stream",
       "stream": "stdout",
       "text": [
        "\r",
        " [-----------------100%-----------------] 10000 of 10000 complete in 4.7 sec"
       ]
      },
      {
       "metadata": {},
       "output_type": "pyout",
       "prompt_number": 56,
       "text": [
        "array([[<matplotlib.axes._subplots.AxesSubplot object at 0x7f54849b2150>,\n",
        "        <matplotlib.axes._subplots.AxesSubplot object at 0x7f54848c4d10>],\n",
        "       [<matplotlib.axes._subplots.AxesSubplot object at 0x7f5484850350>,\n",
        "        <matplotlib.axes._subplots.AxesSubplot object at 0x7f5484834390>]], dtype=object)"
       ]
      },
      {
       "metadata": {},
       "output_type": "display_data",
       "png": "[encoded data removed]",
       "text": [
        "<matplotlib.figure.Figure at 0x7f548c8d3d90>"
       ]
      }
     ],
     "prompt_number": 56
    },
    {
     "cell_type": "code",
     "collapsed": false,
     "input": [
      "import matplotlib.pyplot as plt\n",
      "import numpy as np\n",
      "import matplotlib.mlab as mlab\n",
      "import math\n",
      "\n",
      "mu = 0\n",
      "sigma = 2\n",
      "plt.ylim((0,1))\n",
      "x = np.linspace(-1, 1, 100)\n",
      "plt.plot(x,mlab.normpdf(x, mu, sigma))\n",
      "\n",
      "plt.show()"
     ],
     "language": "python",
     "metadata": {},
     "outputs": [
      {
       "metadata": {},
       "output_type": "display_data",
       "png": "[encoded data removed]",
       "text": [
        "<matplotlib.figure.Figure at 0x7f08a2e45d50>"
       ]
      }
     ],
     "prompt_number": 21
    },
    {
     "cell_type": "code",
     "collapsed": false,
     "input": [
      "[1,2,3][0:1]\n"
     ],
     "language": "python",
     "metadata": {},
     "outputs": [
      {
       "metadata": {},
       "output_type": "pyout",
       "prompt_number": 30,
       "text": [
        "[1]"
       ]
      }
     ],
     "prompt_number": 30
    },
    {
     "cell_type": "code",
     "collapsed": false,
     "input": [],
     "language": "python",
     "metadata": {},
     "outputs": []
    }
   ],
   "metadata": {}
  }
 ]
}